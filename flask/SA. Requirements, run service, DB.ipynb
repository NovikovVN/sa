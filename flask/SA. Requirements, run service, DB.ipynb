{
 "cells": [
  {
   "cell_type": "markdown",
   "metadata": {},
   "source": [
    "# Requirements"
   ]
  },
  {
   "cell_type": "markdown",
   "metadata": {},
   "source": [
    "sklearn '**0.21.2**'"
   ]
  },
  {
   "cell_type": "markdown",
   "metadata": {},
   "source": [
    "flask version '**1.1.1**'"
   ]
  },
  {
   "cell_type": "markdown",
   "metadata": {},
   "source": [
    "sqlite3 '**3.29.0**'"
   ]
  },
  {
   "cell_type": "markdown",
   "metadata": {},
   "source": [
    "# Run service"
   ]
  },
  {
   "cell_type": "code",
   "execution_count": 28,
   "metadata": {},
   "outputs": [
    {
     "name": "stdout",
     "output_type": "stream",
     "text": [
      "Preparing classifier...\n",
      "Classifier is ready\n",
      "0.974056 seconds\n",
      "\n",
      " * Serving Flask app \"sentiment_demo\" (lazy loading)\n",
      " * Environment: production\n",
      "   WARNING: This is a development server. Do not use it in a production deployment.\n",
      "   Use a production WSGI server instead.\n",
      " * Debug mode: off\n"
     ]
    },
    {
     "name": "stderr",
     "output_type": "stream",
     "text": [
      " * Running on http://127.0.0.1:5000/ (Press CTRL+C to quit)\n",
      "INFO:werkzeug: * Running on http://127.0.0.1:5000/ (Press CTRL+C to quit)\n"
     ]
    },
    {
     "name": "stdout",
     "output_type": "stream",
     "text": [
      " * Running on http://3eba6790.ngrok.io\n",
      " * Traffic stats available on http://127.0.0.1:4040\n"
     ]
    }
   ],
   "source": [
    "%run ./sentiment_demo.py"
   ]
  },
  {
   "cell_type": "markdown",
   "metadata": {},
   "source": [
    "# Вывод данных из БД"
   ]
  },
  {
   "cell_type": "code",
   "execution_count": 29,
   "metadata": {},
   "outputs": [],
   "source": [
    "with sqlite3.connect('sa.db') as conn:\n",
    "    cursor = conn.cursor()\n",
    "    cursor.execute('SELECT * FROM sa ORDER BY date DESC LIMIT 2')\n",
    "    rows = cursor.fetchall()\n",
    "    conn.commit()"
   ]
  },
  {
   "cell_type": "code",
   "execution_count": 30,
   "metadata": {},
   "outputs": [
    {
     "name": "stdout",
     "output_type": "stream",
     "text": [
      "Дата: 2020-03-04 08:31:08.858800\n",
      "Достоинства: Цена..Взял за 6500р в ноябре.один в один с samsung J5 2016г.\n",
      "Недостатки: Не обнаружил\n",
      "Комментарий: Без всяких заморочек. Дешёвый. Рекомендую...\n",
      "Оценка:  неопределенный\n",
      "\n",
      "Дата: 2020-03-04 08:30:01.388941\n",
      "Достоинства: фотик, экран, корпус\n",
      "Недостатки: нет\n",
      "Комментарий: искал очередую звонилку, на замену умирающему леново А1000. главный критерий - это спутниковый навигатор, работающий без симок и интернетов(бываю в лесу). а тут мне в руки попало что-то невероятное! потрясающий экран! афигенные фото! плеер качает - мои наушники никогда так кайфово не играли! навигатор находит путь сразу! симкин интернет работает со скоростью как дома по вай-фай! аккума хватает на 1,5 дня,(привык заряжать каждую ночь, если забыть зарядить, то можно экономно протянуть еще день). при падениях об асфальт(катаю на велосипеде) - не надо больше собирать крышки и аккумы, ожидать включения и вводить пинкоды - цельный корпус. супер-телефончик!\n",
      "Оценка: определенно положительный\n",
      "\n"
     ]
    }
   ],
   "source": [
    "for row in rows:\n",
    "    print(f'Дата: {row[0]}\\nДостоинства: {row[1]}\\nНедостатки: {row[2]}\\nКомментарий: {row[3]}\\nОценка: {row[4]}\\n')"
   ]
  },
  {
   "cell_type": "markdown",
   "metadata": {},
   "source": [
    " "
   ]
  }
 ],
 "metadata": {
  "kernelspec": {
   "display_name": "Python 3",
   "language": "python",
   "name": "python3"
  },
  "language_info": {
   "codemirror_mode": {
    "name": "ipython",
    "version": 3
   },
   "file_extension": ".py",
   "mimetype": "text/x-python",
   "name": "python",
   "nbconvert_exporter": "python",
   "pygments_lexer": "ipython3",
   "version": "3.7.3"
  }
 },
 "nbformat": 4,
 "nbformat_minor": 2
}
